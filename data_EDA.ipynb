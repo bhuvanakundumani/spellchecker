{
 "cells": [
  {
   "cell_type": "code",
   "execution_count": 32,
   "id": "b9c9d3ed",
   "metadata": {},
   "outputs": [],
   "source": [
    "import pandas as pd\n",
    "import matplotlib.pyplot as plt\n"
   ]
  },
  {
   "cell_type": "code",
   "execution_count": 11,
   "id": "cec60eab",
   "metadata": {},
   "outputs": [],
   "source": [
    "df = pd.read_csv(\"data/final/train.csv\")"
   ]
  },
  {
   "cell_type": "code",
   "execution_count": 12,
   "id": "791ce7e9",
   "metadata": {},
   "outputs": [
    {
     "data": {
      "text/plain": [
       "(653257, 2)"
      ]
     },
     "execution_count": 12,
     "metadata": {},
     "output_type": "execute_result"
    }
   ],
   "source": [
    "df.shape"
   ]
  },
  {
   "cell_type": "code",
   "execution_count": 13,
   "id": "62eef002",
   "metadata": {
    "scrolled": true
   },
   "outputs": [
    {
     "data": {
      "text/html": [
       "<div>\n",
       "<style scoped>\n",
       "    .dataframe tbody tr th:only-of-type {\n",
       "        vertical-align: middle;\n",
       "    }\n",
       "\n",
       "    .dataframe tbody tr th {\n",
       "        vertical-align: top;\n",
       "    }\n",
       "\n",
       "    .dataframe thead th {\n",
       "        text-align: right;\n",
       "    }\n",
       "</style>\n",
       "<table border=\"1\" class=\"dataframe\">\n",
       "  <thead>\n",
       "    <tr style=\"text-align: right;\">\n",
       "      <th></th>\n",
       "      <th>source</th>\n",
       "      <th>target</th>\n",
       "    </tr>\n",
       "  </thead>\n",
       "  <tbody>\n",
       "    <tr>\n",
       "      <th>0</th>\n",
       "      <td>summarize: digital multimedia broadcasting or ...</td>\n",
       "      <td>digital multpmedpa broadcasting or dmb is a te...</td>\n",
       "    </tr>\n",
       "    <tr>\n",
       "      <th>1</th>\n",
       "      <td>summarize:  in traditional animation images ar...</td>\n",
       "      <td>in traditional animation images are drawn or p...</td>\n",
       "    </tr>\n",
       "    <tr>\n",
       "      <th>2</th>\n",
       "      <td>summarize: on july 23 2012 ride died of pancre...</td>\n",
       "      <td>on july 23 2012 ride died of pancreatic cancer...</td>\n",
       "    </tr>\n",
       "    <tr>\n",
       "      <th>3</th>\n",
       "      <td>summarize: stephanie kwolek developed an arami...</td>\n",
       "      <td>stephanie kwolek developed an aramid or aromab...</td>\n",
       "    </tr>\n",
       "    <tr>\n",
       "      <th>4</th>\n",
       "      <td>summarize: baby who was featured in youtuber k...</td>\n",
       "      <td>baby who was featured in youtuber fsi s song d...</td>\n",
       "    </tr>\n",
       "  </tbody>\n",
       "</table>\n",
       "</div>"
      ],
      "text/plain": [
       "                                              source  \\\n",
       "0  summarize: digital multimedia broadcasting or ...   \n",
       "1  summarize:  in traditional animation images ar...   \n",
       "2  summarize: on july 23 2012 ride died of pancre...   \n",
       "3  summarize: stephanie kwolek developed an arami...   \n",
       "4  summarize: baby who was featured in youtuber k...   \n",
       "\n",
       "                                              target  \n",
       "0  digital multpmedpa broadcasting or dmb is a te...  \n",
       "1  in traditional animation images are drawn or p...  \n",
       "2  on july 23 2012 ride died of pancreatic cancer...  \n",
       "3  stephanie kwolek developed an aramid or aromab...  \n",
       "4  baby who was featured in youtuber fsi s song d...  "
      ]
     },
     "execution_count": 13,
     "metadata": {},
     "output_type": "execute_result"
    }
   ],
   "source": [
    "df.head()\n"
   ]
  },
  {
   "cell_type": "code",
   "execution_count": 37,
   "id": "44f82e52",
   "metadata": {},
   "outputs": [
    {
     "data": {
      "text/plain": [
       "'summarize: digital multimedia broadcasting or dmb is a technology that allows to send digital signals to mobile devices such as mobile phones '"
      ]
     },
     "execution_count": 37,
     "metadata": {},
     "output_type": "execute_result"
    }
   ],
   "source": [
    "df[\"source\"][0]"
   ]
  },
  {
   "cell_type": "code",
   "execution_count": 14,
   "id": "f68a68ca",
   "metadata": {},
   "outputs": [],
   "source": [
    "df['word_count'] = df['source'].apply(lambda x: len(str(x).split()))"
   ]
  },
  {
   "cell_type": "code",
   "execution_count": 22,
   "id": "bb05cc42",
   "metadata": {},
   "outputs": [
    {
     "data": {
      "text/plain": [
       "21.90726620610265"
      ]
     },
     "execution_count": 22,
     "metadata": {},
     "output_type": "execute_result"
    }
   ],
   "source": [
    "df['word_count'].mean()\n"
   ]
  },
  {
   "cell_type": "code",
   "execution_count": 25,
   "id": "82c2208b",
   "metadata": {},
   "outputs": [
    {
     "data": {
      "text/plain": [
       "count    653257.000000\n",
       "mean         21.907266\n",
       "std           8.239740\n",
       "min           2.000000\n",
       "25%          17.000000\n",
       "50%          20.000000\n",
       "75%          25.000000\n",
       "max        1269.000000\n",
       "Name: word_count, dtype: float64"
      ]
     },
     "execution_count": 25,
     "metadata": {},
     "output_type": "execute_result"
    }
   ],
   "source": [
    "df[\"word_count\"].describe()"
   ]
  },
  {
   "cell_type": "code",
   "execution_count": 38,
   "id": "db8d1f17",
   "metadata": {},
   "outputs": [
    {
     "data": {
      "text/plain": [
       "<AxesSubplot:>"
      ]
     },
     "execution_count": 38,
     "metadata": {},
     "output_type": "execute_result"
    },
    {
     "data": {
      "image/png": "[encoded data removed]",
      "text/plain": [
       "<Figure size 432x288 with 1 Axes>"
      ]
     },
     "metadata": {
      "needs_background": "light"
     },
     "output_type": "display_data"
    }
   ],
   "source": [
    "\n",
    "df[\"word_count\"].plot()"
   ]
  },
  {
   "cell_type": "code",
   "execution_count": 39,
   "id": "064753ae",
   "metadata": {},
   "outputs": [],
   "source": [
    "df['word_count_target'] = df['target'].apply(lambda x: len(str(x).split()))"
   ]
  },
  {
   "cell_type": "code",
   "execution_count": 40,
   "id": "1a9d1e90",
   "metadata": {},
   "outputs": [
    {
     "data": {
      "text/plain": [
       "count    653257.000000\n",
       "mean         20.908890\n",
       "std           8.239536\n",
       "min           1.000000\n",
       "25%          16.000000\n",
       "50%          19.000000\n",
       "75%          24.000000\n",
       "max        1268.000000\n",
       "Name: word_count_target, dtype: float64"
      ]
     },
     "execution_count": 40,
     "metadata": {},
     "output_type": "execute_result"
    }
   ],
   "source": [
    "df[\"word_count_target\"].describe()"
   ]
  },
  {
   "cell_type": "code",
   "execution_count": 41,
   "id": "205484a4",
   "metadata": {},
   "outputs": [
    {
     "data": {
      "text/plain": [
       "<AxesSubplot:>"
      ]
     },
     "execution_count": 41,
     "metadata": {},
     "output_type": "execute_result"
    },
    {
     "data": {
      "image/png": "[encoded data removed]",
      "text/plain": [
       "<Figure size 432x288 with 1 Axes>"
      ]
     },
     "metadata": {
      "needs_background": "light"
     },
     "output_type": "display_data"
    }
   ],
   "source": [
    "df[\"word_count_target\"].plot()"
   ]
  },
  {
   "cell_type": "code",
   "execution_count": null,
   "id": "aa00b22c",
   "metadata": {},
   "outputs": [],
   "source": []
  }
 ],
 "metadata": {
  "kernelspec": {
   "display_name": "Python 3",
   "language": "python",
   "name": "python3"
  },
  "language_info": {
   "codemirror_mode": {
    "name": "ipython",
    "version": 3
   },
   "file_extension": ".py",
   "mimetype": "text/x-python",
   "name": "python",
   "nbconvert_exporter": "python",
   "pygments_lexer": "ipython3",
   "version": "3.6.9"
  }
 },
 "nbformat": 4,
 "nbformat_minor": 5
}
